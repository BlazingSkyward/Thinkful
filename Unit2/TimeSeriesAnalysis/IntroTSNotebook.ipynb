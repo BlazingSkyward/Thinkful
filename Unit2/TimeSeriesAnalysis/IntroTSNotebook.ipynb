{
 "metadata": {
  "name": "",
  "signature": "sha256:abfa4fe40bc215929e4a910e7cc233f1280792028729af747071ae15a0e53dce"
 },
 "nbformat": 3,
 "nbformat_minor": 0,
 "worksheets": [
  {
   "cells": [
    {
     "cell_type": "code",
     "collapsed": false,
     "input": [
      "import pandas as pd\n",
      "import numpy as np\n",
      "from datetime import datetime"
     ],
     "language": "python",
     "metadata": {},
     "outputs": [],
     "prompt_number": 2
    },
    {
     "cell_type": "code",
     "collapsed": false,
     "input": [
      "print 'hello frank'"
     ],
     "language": "python",
     "metadata": {},
     "outputs": [
      {
       "output_type": "stream",
       "stream": "stdout",
       "text": [
        "hello frank\n"
       ]
      }
     ],
     "prompt_number": 2
    },
    {
     "cell_type": "code",
     "collapsed": false,
     "input": [
      "import matplotlib.pyplot as plt"
     ],
     "language": "python",
     "metadata": {},
     "outputs": [],
     "prompt_number": 3
    },
    {
     "cell_type": "code",
     "collapsed": false,
     "input": [
      "plt.plot(np.random.randn(1000).cumsum())"
     ],
     "language": "python",
     "metadata": {},
     "outputs": [
      {
       "metadata": {},
       "output_type": "pyout",
       "prompt_number": 5,
       "text": [
        "[<matplotlib.lines.Line2D at 0x1081a3490>]"
       ]
      },
      {
       "metadata": {},
       "output_type": "display_data",
       "png": "[encoded data removed]",
       "text": [
        "<matplotlib.figure.Figure at 0x107771250>"
       ]
      }
     ],
     "prompt_number": 5
    },
    {
     "cell_type": "code",
     "collapsed": false,
     "input": [
      "from pandas import Series, DataFrame"
     ],
     "language": "python",
     "metadata": {},
     "outputs": [],
     "prompt_number": 4
    },
    {
     "cell_type": "code",
     "collapsed": false,
     "input": [
      "index = ['a', 'b', 'c', 'd', 'e']\n",
      "s = Series(np.arange(5), index = index)\n",
      "s.index"
     ],
     "language": "python",
     "metadata": {},
     "outputs": [
      {
       "metadata": {},
       "output_type": "pyout",
       "prompt_number": 7,
       "text": [
        "Index([u'a', u'b', u'c', u'd', u'e'], dtype='object')"
       ]
      }
     ],
     "prompt_number": 7
    },
    {
     "cell_type": "code",
     "collapsed": false,
     "input": [
      "s"
     ],
     "language": "python",
     "metadata": {},
     "outputs": [
      {
       "metadata": {},
       "output_type": "pyout",
       "prompt_number": 9,
       "text": [
        "a    0\n",
        "b    1\n",
        "c    2\n",
        "d    3\n",
        "e    4\n",
        "dtype: int64"
       ]
      }
     ],
     "prompt_number": 9
    },
    {
     "cell_type": "code",
     "collapsed": false,
     "input": [
      "dates = pd.date_range('2012-07-16', '2012-07-21')\n",
      "atemps = Series([101.5, 98, 95, 99, 100, 92], index=dates)\n",
      "atemps"
     ],
     "language": "python",
     "metadata": {},
     "outputs": [
      {
       "metadata": {},
       "output_type": "pyout",
       "prompt_number": 14,
       "text": [
        "2012-07-16    101.5\n",
        "2012-07-17     98.0\n",
        "2012-07-18     95.0\n",
        "2012-07-19     99.0\n",
        "2012-07-20    100.0\n",
        "2012-07-21     92.0\n",
        "Freq: D, dtype: float64"
       ]
      }
     ],
     "prompt_number": 14
    },
    {
     "cell_type": "code",
     "collapsed": false,
     "input": [
      "sdtemps = Series([73, 78, 77, 78, 78, 77], index=dates)"
     ],
     "language": "python",
     "metadata": {},
     "outputs": [],
     "prompt_number": 15
    },
    {
     "cell_type": "code",
     "collapsed": false,
     "input": [
      "temps = DataFrame({'Austin': atemps, 'San Diego': sdtemps})"
     ],
     "language": "python",
     "metadata": {},
     "outputs": [],
     "prompt_number": 16
    },
    {
     "cell_type": "code",
     "collapsed": false,
     "input": [
      "temps"
     ],
     "language": "python",
     "metadata": {},
     "outputs": [
      {
       "html": [
        "<div style=\"max-height:1000px;max-width:1500px;overflow:auto;\">\n",
        "<table border=\"1\" class=\"dataframe\">\n",
        "  <thead>\n",
        "    <tr style=\"text-align: right;\">\n",
        "      <th></th>\n",
        "      <th>Austin</th>\n",
        "      <th>San Diego</th>\n",
        "    </tr>\n",
        "  </thead>\n",
        "  <tbody>\n",
        "    <tr>\n",
        "      <th>2012-07-16</th>\n",
        "      <td> 101.5</td>\n",
        "      <td> 73</td>\n",
        "    </tr>\n",
        "    <tr>\n",
        "      <th>2012-07-17</th>\n",
        "      <td>  98.0</td>\n",
        "      <td> 78</td>\n",
        "    </tr>\n",
        "    <tr>\n",
        "      <th>2012-07-18</th>\n",
        "      <td>  95.0</td>\n",
        "      <td> 77</td>\n",
        "    </tr>\n",
        "    <tr>\n",
        "      <th>2012-07-19</th>\n",
        "      <td>  99.0</td>\n",
        "      <td> 78</td>\n",
        "    </tr>\n",
        "    <tr>\n",
        "      <th>2012-07-20</th>\n",
        "      <td> 100.0</td>\n",
        "      <td> 78</td>\n",
        "    </tr>\n",
        "    <tr>\n",
        "      <th>2012-07-21</th>\n",
        "      <td>  92.0</td>\n",
        "      <td> 77</td>\n",
        "    </tr>\n",
        "  </tbody>\n",
        "</table>\n",
        "</div>"
       ],
       "metadata": {},
       "output_type": "pyout",
       "prompt_number": 17,
       "text": [
        "            Austin  San Diego\n",
        "2012-07-16   101.5         73\n",
        "2012-07-17    98.0         78\n",
        "2012-07-18    95.0         77\n",
        "2012-07-19    99.0         78\n",
        "2012-07-20   100.0         78\n",
        "2012-07-21    92.0         77"
       ]
      }
     ],
     "prompt_number": 17
    },
    {
     "cell_type": "code",
     "collapsed": false,
     "input": [
      "temps['Diff'] = temps['Austin'] - temps['San Diego']"
     ],
     "language": "python",
     "metadata": {},
     "outputs": [],
     "prompt_number": 18
    },
    {
     "cell_type": "code",
     "collapsed": false,
     "input": [
      "del temps['Diff']"
     ],
     "language": "python",
     "metadata": {},
     "outputs": [],
     "prompt_number": 20
    },
    {
     "cell_type": "markdown",
     "metadata": {},
     "source": []
    },
    {
     "cell_type": "code",
     "collapsed": false,
     "input": [
      "temps.ix[2:4]"
     ],
     "language": "python",
     "metadata": {},
     "outputs": [
      {
       "html": [
        "<div style=\"max-height:1000px;max-width:1500px;overflow:auto;\">\n",
        "<table border=\"1\" class=\"dataframe\">\n",
        "  <thead>\n",
        "    <tr style=\"text-align: right;\">\n",
        "      <th></th>\n",
        "      <th>Austin</th>\n",
        "      <th>San Diego</th>\n",
        "    </tr>\n",
        "  </thead>\n",
        "  <tbody>\n",
        "    <tr>\n",
        "      <th>2012-07-18</th>\n",
        "      <td> 95</td>\n",
        "      <td> 77</td>\n",
        "    </tr>\n",
        "    <tr>\n",
        "      <th>2012-07-19</th>\n",
        "      <td> 99</td>\n",
        "      <td> 78</td>\n",
        "    </tr>\n",
        "  </tbody>\n",
        "</table>\n",
        "</div>"
       ],
       "metadata": {},
       "output_type": "pyout",
       "prompt_number": 23,
       "text": [
        "            Austin  San Diego\n",
        "2012-07-18      95         77\n",
        "2012-07-19      99         78"
       ]
      }
     ],
     "prompt_number": 23
    },
    {
     "cell_type": "code",
     "collapsed": false,
     "input": [
      "temps.ix[temps.index[2]:, ['San Diego']]"
     ],
     "language": "python",
     "metadata": {},
     "outputs": [
      {
       "html": [
        "<div style=\"max-height:1000px;max-width:1500px;overflow:auto;\">\n",
        "<table border=\"1\" class=\"dataframe\">\n",
        "  <thead>\n",
        "    <tr style=\"text-align: right;\">\n",
        "      <th></th>\n",
        "      <th>San Diego</th>\n",
        "    </tr>\n",
        "  </thead>\n",
        "  <tbody>\n",
        "    <tr>\n",
        "      <th>2012-07-18</th>\n",
        "      <td> 77</td>\n",
        "    </tr>\n",
        "    <tr>\n",
        "      <th>2012-07-19</th>\n",
        "      <td> 78</td>\n",
        "    </tr>\n",
        "    <tr>\n",
        "      <th>2012-07-20</th>\n",
        "      <td> 78</td>\n",
        "    </tr>\n",
        "    <tr>\n",
        "      <th>2012-07-21</th>\n",
        "      <td> 77</td>\n",
        "    </tr>\n",
        "  </tbody>\n",
        "</table>\n",
        "</div>"
       ],
       "metadata": {},
       "output_type": "pyout",
       "prompt_number": 27,
       "text": [
        "            San Diego\n",
        "2012-07-18         77\n",
        "2012-07-19         78\n",
        "2012-07-20         78\n",
        "2012-07-21         77"
       ]
      }
     ],
     "prompt_number": 27
    },
    {
     "cell_type": "code",
     "collapsed": false,
     "input": [
      "temps.mean()"
     ],
     "language": "python",
     "metadata": {},
     "outputs": [
      {
       "metadata": {},
       "output_type": "pyout",
       "prompt_number": 28,
       "text": [
        "Austin       97.583333\n",
        "San Diego    76.833333\n",
        "dtype: float64"
       ]
      }
     ],
     "prompt_number": 28
    },
    {
     "cell_type": "code",
     "collapsed": false,
     "input": [
      "temps - temps.mean()"
     ],
     "language": "python",
     "metadata": {},
     "outputs": [
      {
       "html": [
        "<div style=\"max-height:1000px;max-width:1500px;overflow:auto;\">\n",
        "<table border=\"1\" class=\"dataframe\">\n",
        "  <thead>\n",
        "    <tr style=\"text-align: right;\">\n",
        "      <th></th>\n",
        "      <th>Austin</th>\n",
        "      <th>San Diego</th>\n",
        "    </tr>\n",
        "  </thead>\n",
        "  <tbody>\n",
        "    <tr>\n",
        "      <th>2012-07-16</th>\n",
        "      <td> 3.916667</td>\n",
        "      <td>-3.833333</td>\n",
        "    </tr>\n",
        "    <tr>\n",
        "      <th>2012-07-17</th>\n",
        "      <td> 0.416667</td>\n",
        "      <td> 1.166667</td>\n",
        "    </tr>\n",
        "    <tr>\n",
        "      <th>2012-07-18</th>\n",
        "      <td>-2.583333</td>\n",
        "      <td> 0.166667</td>\n",
        "    </tr>\n",
        "    <tr>\n",
        "      <th>2012-07-19</th>\n",
        "      <td> 1.416667</td>\n",
        "      <td> 1.166667</td>\n",
        "    </tr>\n",
        "    <tr>\n",
        "      <th>2012-07-20</th>\n",
        "      <td> 2.416667</td>\n",
        "      <td> 1.166667</td>\n",
        "    </tr>\n",
        "    <tr>\n",
        "      <th>2012-07-21</th>\n",
        "      <td>-5.583333</td>\n",
        "      <td> 0.166667</td>\n",
        "    </tr>\n",
        "  </tbody>\n",
        "</table>\n",
        "</div>"
       ],
       "metadata": {},
       "output_type": "pyout",
       "prompt_number": 29,
       "text": [
        "              Austin  San Diego\n",
        "2012-07-16  3.916667  -3.833333\n",
        "2012-07-17  0.416667   1.166667\n",
        "2012-07-18 -2.583333   0.166667\n",
        "2012-07-19  1.416667   1.166667\n",
        "2012-07-20  2.416667   1.166667\n",
        "2012-07-21 -5.583333   0.166667"
       ]
      }
     ],
     "prompt_number": 29
    },
    {
     "cell_type": "code",
     "collapsed": false,
     "input": [
      "temps[temps.Austin > 100]"
     ],
     "language": "python",
     "metadata": {},
     "outputs": [
      {
       "html": [
        "<div style=\"max-height:1000px;max-width:1500px;overflow:auto;\">\n",
        "<table border=\"1\" class=\"dataframe\">\n",
        "  <thead>\n",
        "    <tr style=\"text-align: right;\">\n",
        "      <th></th>\n",
        "      <th>Austin</th>\n",
        "      <th>San Diego</th>\n",
        "    </tr>\n",
        "  </thead>\n",
        "  <tbody>\n",
        "    <tr>\n",
        "      <th>2012-07-16</th>\n",
        "      <td> 101.5</td>\n",
        "      <td> 73</td>\n",
        "    </tr>\n",
        "  </tbody>\n",
        "</table>\n",
        "</div>"
       ],
       "metadata": {},
       "output_type": "pyout",
       "prompt_number": 30,
       "text": [
        "            Austin  San Diego\n",
        "2012-07-16   101.5         73"
       ]
      }
     ],
     "prompt_number": 30
    },
    {
     "cell_type": "code",
     "collapsed": false,
     "input": [
      "!cat /Users/frankCorrigan/ThinkfulData/timeseriesdata/test1.csv"
     ],
     "language": "python",
     "metadata": {},
     "outputs": [
      {
       "output_type": "stream",
       "stream": "stdout",
       "text": [
        "date,0,1,2,3\r\n",
        "2000-01-01 00:00:00,1.10376250134,-1.90997889703,-0.808955536115,-2.39262906719\r\n",
        "2000-01-02 00:00:00,1.18891664768,0.581119740849,0.86159734949,-0.213885346486\r\n",
        "2000-01-03 00:00:00,-0.964200042412,0.779764393246,1.82906224532,0.322422339415\r\n",
        "2000-01-04 00:00:00,0.782130444001,-1.72066965573,-1.10824167327,1.23348925791\r\n",
        "2000-01-05 00:00:00,-1.86701699823,-0.528368292754,-2.48830894087,1.48034194215\r\n",
        "2000-01-06 00:00:00,2.56928022646,-0.471901478927,-0.835033249865,-0.532132652067\r\n",
        "2000-01-07 00:00:00,-0.39932258251,-0.676426550985,-0.0112559158931,0.223251821044\r\n",
        "2000-01-08 00:00:00,1.64299299394,1.01341997845,1.43566709724,-0.635861850721\r\n",
        "2000-01-09 00:00:00,1.14730764657,2.13799951538,0.554171306191,-0.25553826194\r\n",
        "2000-01-10 00:00:00,0.933765825769,1.38715526486,-0.560142729978,-0.787082814998\r\n"
       ]
      }
     ],
     "prompt_number": 31
    },
    {
     "cell_type": "code",
     "collapsed": false,
     "input": [
      "df = pd.read_csv('/Users/frankCorrigan/ThinkfulData/timeseriesdata/test1.csv', parse_dates=['date'], index_col='date')"
     ],
     "language": "python",
     "metadata": {},
     "outputs": [],
     "prompt_number": 36
    },
    {
     "cell_type": "code",
     "collapsed": false,
     "input": [
      "df"
     ],
     "language": "python",
     "metadata": {},
     "outputs": [
      {
       "html": [
        "<div style=\"max-height:1000px;max-width:1500px;overflow:auto;\">\n",
        "<table border=\"1\" class=\"dataframe\">\n",
        "  <thead>\n",
        "    <tr style=\"text-align: right;\">\n",
        "      <th></th>\n",
        "      <th>0</th>\n",
        "      <th>1</th>\n",
        "      <th>2</th>\n",
        "      <th>3</th>\n",
        "    </tr>\n",
        "    <tr>\n",
        "      <th>date</th>\n",
        "      <th></th>\n",
        "      <th></th>\n",
        "      <th></th>\n",
        "      <th></th>\n",
        "    </tr>\n",
        "  </thead>\n",
        "  <tbody>\n",
        "    <tr>\n",
        "      <th>2000-01-01</th>\n",
        "      <td> 1.103763</td>\n",
        "      <td>-1.909979</td>\n",
        "      <td>-0.808956</td>\n",
        "      <td>-2.392629</td>\n",
        "    </tr>\n",
        "    <tr>\n",
        "      <th>2000-01-02</th>\n",
        "      <td> 1.188917</td>\n",
        "      <td> 0.581120</td>\n",
        "      <td> 0.861597</td>\n",
        "      <td>-0.213885</td>\n",
        "    </tr>\n",
        "    <tr>\n",
        "      <th>2000-01-03</th>\n",
        "      <td>-0.964200</td>\n",
        "      <td> 0.779764</td>\n",
        "      <td> 1.829062</td>\n",
        "      <td> 0.322422</td>\n",
        "    </tr>\n",
        "    <tr>\n",
        "      <th>2000-01-04</th>\n",
        "      <td> 0.782130</td>\n",
        "      <td>-1.720670</td>\n",
        "      <td>-1.108242</td>\n",
        "      <td> 1.233489</td>\n",
        "    </tr>\n",
        "    <tr>\n",
        "      <th>2000-01-05</th>\n",
        "      <td>-1.867017</td>\n",
        "      <td>-0.528368</td>\n",
        "      <td>-2.488309</td>\n",
        "      <td> 1.480342</td>\n",
        "    </tr>\n",
        "    <tr>\n",
        "      <th>2000-01-06</th>\n",
        "      <td> 2.569280</td>\n",
        "      <td>-0.471901</td>\n",
        "      <td>-0.835033</td>\n",
        "      <td>-0.532133</td>\n",
        "    </tr>\n",
        "    <tr>\n",
        "      <th>2000-01-07</th>\n",
        "      <td>-0.399323</td>\n",
        "      <td>-0.676427</td>\n",
        "      <td>-0.011256</td>\n",
        "      <td> 0.223252</td>\n",
        "    </tr>\n",
        "    <tr>\n",
        "      <th>2000-01-08</th>\n",
        "      <td> 1.642993</td>\n",
        "      <td> 1.013420</td>\n",
        "      <td> 1.435667</td>\n",
        "      <td>-0.635862</td>\n",
        "    </tr>\n",
        "    <tr>\n",
        "      <th>2000-01-09</th>\n",
        "      <td> 1.147308</td>\n",
        "      <td> 2.138000</td>\n",
        "      <td> 0.554171</td>\n",
        "      <td>-0.255538</td>\n",
        "    </tr>\n",
        "    <tr>\n",
        "      <th>2000-01-10</th>\n",
        "      <td> 0.933766</td>\n",
        "      <td> 1.387155</td>\n",
        "      <td>-0.560143</td>\n",
        "      <td>-0.787083</td>\n",
        "    </tr>\n",
        "  </tbody>\n",
        "</table>\n",
        "</div>"
       ],
       "metadata": {},
       "output_type": "pyout",
       "prompt_number": 37,
       "text": [
        "                   0         1         2         3\n",
        "date                                              \n",
        "2000-01-01  1.103763 -1.909979 -0.808956 -2.392629\n",
        "2000-01-02  1.188917  0.581120  0.861597 -0.213885\n",
        "2000-01-03 -0.964200  0.779764  1.829062  0.322422\n",
        "2000-01-04  0.782130 -1.720670 -1.108242  1.233489\n",
        "2000-01-05 -1.867017 -0.528368 -2.488309  1.480342\n",
        "2000-01-06  2.569280 -0.471901 -0.835033 -0.532133\n",
        "2000-01-07 -0.399323 -0.676427 -0.011256  0.223252\n",
        "2000-01-08  1.642993  1.013420  1.435667 -0.635862\n",
        "2000-01-09  1.147308  2.138000  0.554171 -0.255538\n",
        "2000-01-10  0.933766  1.387155 -0.560143 -0.787083"
       ]
      }
     ],
     "prompt_number": 37
    },
    {
     "cell_type": "code",
     "collapsed": false,
     "input": [
      "df.index.name"
     ],
     "language": "python",
     "metadata": {},
     "outputs": [
      {
       "metadata": {},
       "output_type": "pyout",
       "prompt_number": 38,
       "text": [
        "'date'"
       ]
      }
     ],
     "prompt_number": 38
    },
    {
     "cell_type": "code",
     "collapsed": false,
     "input": [
      "df2 = pd.read_csv('/Users/frankCorrigan/ThinkfulData/timeseriesdata/test2.csv', parse_dates=[['date', 'time']])"
     ],
     "language": "python",
     "metadata": {},
     "outputs": [],
     "prompt_number": 42
    },
    {
     "cell_type": "code",
     "collapsed": false,
     "input": [
      "df2"
     ],
     "language": "python",
     "metadata": {},
     "outputs": [
      {
       "html": [
        "<div style=\"max-height:1000px;max-width:1500px;overflow:auto;\">\n",
        "<table border=\"1\" class=\"dataframe\">\n",
        "  <thead>\n",
        "    <tr style=\"text-align: right;\">\n",
        "      <th></th>\n",
        "      <th>date_time</th>\n",
        "      <th>0</th>\n",
        "      <th>1</th>\n",
        "      <th>2</th>\n",
        "      <th>3</th>\n",
        "    </tr>\n",
        "  </thead>\n",
        "  <tbody>\n",
        "    <tr>\n",
        "      <th>0</th>\n",
        "      <td>2000-01-01</td>\n",
        "      <td> 1.103763</td>\n",
        "      <td>-1.909979</td>\n",
        "      <td>-0.808956</td>\n",
        "      <td>-2.392629</td>\n",
        "    </tr>\n",
        "    <tr>\n",
        "      <th>1</th>\n",
        "      <td>2000-01-02</td>\n",
        "      <td> 1.188917</td>\n",
        "      <td> 0.581120</td>\n",
        "      <td> 0.861597</td>\n",
        "      <td>-0.213885</td>\n",
        "    </tr>\n",
        "    <tr>\n",
        "      <th>2</th>\n",
        "      <td>2000-01-03</td>\n",
        "      <td>-0.964200</td>\n",
        "      <td> 0.779764</td>\n",
        "      <td> 1.829062</td>\n",
        "      <td> 0.322422</td>\n",
        "    </tr>\n",
        "    <tr>\n",
        "      <th>3</th>\n",
        "      <td>2000-01-04</td>\n",
        "      <td> 0.782130</td>\n",
        "      <td>-1.720670</td>\n",
        "      <td>-1.108242</td>\n",
        "      <td> 1.233489</td>\n",
        "    </tr>\n",
        "    <tr>\n",
        "      <th>4</th>\n",
        "      <td>2000-01-05</td>\n",
        "      <td>-1.867017</td>\n",
        "      <td>-0.528368</td>\n",
        "      <td>-2.488309</td>\n",
        "      <td> 1.480342</td>\n",
        "    </tr>\n",
        "    <tr>\n",
        "      <th>5</th>\n",
        "      <td>2000-01-06</td>\n",
        "      <td> 2.569280</td>\n",
        "      <td>-0.471901</td>\n",
        "      <td>-0.835033</td>\n",
        "      <td>-0.532133</td>\n",
        "    </tr>\n",
        "    <tr>\n",
        "      <th>6</th>\n",
        "      <td>2000-01-07</td>\n",
        "      <td>-0.399323</td>\n",
        "      <td>-0.676427</td>\n",
        "      <td>-0.011256</td>\n",
        "      <td> 0.223252</td>\n",
        "    </tr>\n",
        "    <tr>\n",
        "      <th>7</th>\n",
        "      <td>2000-01-08</td>\n",
        "      <td> 1.642993</td>\n",
        "      <td> 1.013420</td>\n",
        "      <td> 1.435667</td>\n",
        "      <td>-0.635862</td>\n",
        "    </tr>\n",
        "    <tr>\n",
        "      <th>8</th>\n",
        "      <td>2000-01-09</td>\n",
        "      <td> 1.147308</td>\n",
        "      <td> 2.138000</td>\n",
        "      <td> 0.554171</td>\n",
        "      <td>-0.255538</td>\n",
        "    </tr>\n",
        "    <tr>\n",
        "      <th>9</th>\n",
        "      <td>2000-01-10</td>\n",
        "      <td> 0.933766</td>\n",
        "      <td> 1.387155</td>\n",
        "      <td>-0.560143</td>\n",
        "      <td>-0.787083</td>\n",
        "    </tr>\n",
        "  </tbody>\n",
        "</table>\n",
        "</div>"
       ],
       "metadata": {},
       "output_type": "pyout",
       "prompt_number": 43,
       "text": [
        "   date_time         0         1         2         3\n",
        "0 2000-01-01  1.103763 -1.909979 -0.808956 -2.392629\n",
        "1 2000-01-02  1.188917  0.581120  0.861597 -0.213885\n",
        "2 2000-01-03 -0.964200  0.779764  1.829062  0.322422\n",
        "3 2000-01-04  0.782130 -1.720670 -1.108242  1.233489\n",
        "4 2000-01-05 -1.867017 -0.528368 -2.488309  1.480342\n",
        "5 2000-01-06  2.569280 -0.471901 -0.835033 -0.532133\n",
        "6 2000-01-07 -0.399323 -0.676427 -0.011256  0.223252\n",
        "7 2000-01-08  1.642993  1.013420  1.435667 -0.635862\n",
        "8 2000-01-09  1.147308  2.138000  0.554171 -0.255538\n",
        "9 2000-01-10  0.933766  1.387155 -0.560143 -0.787083"
       ]
      }
     ],
     "prompt_number": 43
    },
    {
     "cell_type": "code",
     "collapsed": false,
     "input": [
      "stamp = pd.Timestamp('7/17/2012 10:06:45')\n",
      "stamp.year\n",
      "# stamp.strftime('%Y%m%d')"
     ],
     "language": "python",
     "metadata": {},
     "outputs": [
      {
       "metadata": {},
       "output_type": "pyout",
       "prompt_number": 47,
       "text": [
        "2012"
       ]
      }
     ],
     "prompt_number": 47
    },
    {
     "cell_type": "code",
     "collapsed": false,
     "input": [
      "stamp.value # nanoseconds"
     ],
     "language": "python",
     "metadata": {},
     "outputs": [
      {
       "metadata": {},
       "output_type": "pyout",
       "prompt_number": 48,
       "text": [
        "1342519605000000000"
       ]
      }
     ],
     "prompt_number": 48
    },
    {
     "cell_type": "code",
     "collapsed": false,
     "input": [
      "dates = ['2012-07-16', '2012-07-18', '2012-07-20']"
     ],
     "language": "python",
     "metadata": {},
     "outputs": [],
     "prompt_number": 50
    },
    {
     "cell_type": "code",
     "collapsed": false,
     "input": [
      "Series(range(3), index=dates)"
     ],
     "language": "python",
     "metadata": {},
     "outputs": [
      {
       "metadata": {},
       "output_type": "pyout",
       "prompt_number": 51,
       "text": [
        "2012-07-16    0\n",
        "2012-07-18    1\n",
        "2012-07-20    2\n",
        "dtype: int64"
       ]
      }
     ],
     "prompt_number": 51
    },
    {
     "cell_type": "code",
     "collapsed": false,
     "input": [
      "pd.DatetimeIndex(dates)"
     ],
     "language": "python",
     "metadata": {},
     "outputs": [
      {
       "metadata": {},
       "output_type": "pyout",
       "prompt_number": 52,
       "text": [
        "<class 'pandas.tseries.index.DatetimeIndex'>\n",
        "[2012-07-16, ..., 2012-07-20]\n",
        "Length: 3, Freq: None, Timezone: None"
       ]
      }
     ],
     "prompt_number": 52
    },
    {
     "cell_type": "markdown",
     "metadata": {},
     "source": [
      "Indexing\n",
      "-----------"
     ]
    },
    {
     "cell_type": "code",
     "collapsed": false,
     "input": [
      "rng = pd.date_range('2012-07-17', periods=1000)"
     ],
     "language": "python",
     "metadata": {},
     "outputs": [],
     "prompt_number": 6
    },
    {
     "cell_type": "code",
     "collapsed": false,
     "input": [
      "ts = Series(np.arange(1000), index=rng)"
     ],
     "language": "python",
     "metadata": {},
     "outputs": [],
     "prompt_number": 7
    },
    {
     "cell_type": "code",
     "collapsed": false,
     "input": [
      "ts[:'2012-8-1']"
     ],
     "language": "python",
     "metadata": {},
     "outputs": [
      {
       "metadata": {},
       "output_type": "pyout",
       "prompt_number": 8,
       "text": [
        "2012-07-17     0\n",
        "2012-07-18     1\n",
        "2012-07-19     2\n",
        "2012-07-20     3\n",
        "2012-07-21     4\n",
        "2012-07-22     5\n",
        "2012-07-23     6\n",
        "2012-07-24     7\n",
        "2012-07-25     8\n",
        "2012-07-26     9\n",
        "2012-07-27    10\n",
        "2012-07-28    11\n",
        "2012-07-29    12\n",
        "2012-07-30    13\n",
        "2012-07-31    14\n",
        "2012-08-01    15\n",
        "Freq: D, dtype: int64"
       ]
      }
     ],
     "prompt_number": 8
    },
    {
     "cell_type": "code",
     "collapsed": false,
     "input": [
      "ts2 = ts.take(np.random.permutation(len(ts)))\n",
      "ts2.sort_index()"
     ],
     "language": "python",
     "metadata": {},
     "outputs": [
      {
       "metadata": {},
       "output_type": "pyout",
       "prompt_number": 9,
       "text": [
        "2012-07-17     0\n",
        "2012-07-18     1\n",
        "2012-07-19     2\n",
        "2012-07-20     3\n",
        "2012-07-21     4\n",
        "2012-07-22     5\n",
        "2012-07-23     6\n",
        "2012-07-24     7\n",
        "2012-07-25     8\n",
        "2012-07-26     9\n",
        "2012-07-27    10\n",
        "2012-07-28    11\n",
        "2012-07-29    12\n",
        "2012-07-30    13\n",
        "2012-07-31    14\n",
        "...\n",
        "2015-03-29    985\n",
        "2015-03-30    986\n",
        "2015-03-31    987\n",
        "2015-04-01    988\n",
        "2015-04-02    989\n",
        "2015-04-03    990\n",
        "2015-04-04    991\n",
        "2015-04-05    992\n",
        "2015-04-06    993\n",
        "2015-04-07    994\n",
        "2015-04-08    995\n",
        "2015-04-09    996\n",
        "2015-04-10    997\n",
        "2015-04-11    998\n",
        "2015-04-12    999\n",
        "Length: 1000"
       ]
      }
     ],
     "prompt_number": 9
    },
    {
     "cell_type": "code",
     "collapsed": false,
     "input": [
      "ts['2012-10-02':'2013']"
     ],
     "language": "python",
     "metadata": {},
     "outputs": [
      {
       "metadata": {},
       "output_type": "pyout",
       "prompt_number": 10,
       "text": [
        "2012-10-02    77\n",
        "2012-10-03    78\n",
        "2012-10-04    79\n",
        "2012-10-05    80\n",
        "2012-10-06    81\n",
        "2012-10-07    82\n",
        "2012-10-08    83\n",
        "2012-10-09    84\n",
        "2012-10-10    85\n",
        "2012-10-11    86\n",
        "2012-10-12    87\n",
        "2012-10-13    88\n",
        "2012-10-14    89\n",
        "2012-10-15    90\n",
        "2012-10-16    91\n",
        "...\n",
        "2013-12-17    518\n",
        "2013-12-18    519\n",
        "2013-12-19    520\n",
        "2013-12-20    521\n",
        "2013-12-21    522\n",
        "2013-12-22    523\n",
        "2013-12-23    524\n",
        "2013-12-24    525\n",
        "2013-12-25    526\n",
        "2013-12-26    527\n",
        "2013-12-27    528\n",
        "2013-12-28    529\n",
        "2013-12-29    530\n",
        "2013-12-30    531\n",
        "2013-12-31    532\n",
        "Freq: D, Length: 456"
       ]
      }
     ],
     "prompt_number": 10
    },
    {
     "cell_type": "code",
     "collapsed": false,
     "input": [
      "df = DataFrame(np.arange(4000).reshape((1000,4)), index=rng, columns=['CO', 'TX', 'NY', 'OH'])"
     ],
     "language": "python",
     "metadata": {},
     "outputs": [],
     "prompt_number": 11
    },
    {
     "cell_type": "code",
     "collapsed": false,
     "input": [
      "df.ix['2012-07']"
     ],
     "language": "python",
     "metadata": {},
     "outputs": [
      {
       "html": [
        "<div style=\"max-height:1000px;max-width:1500px;overflow:auto;\">\n",
        "<table border=\"1\" class=\"dataframe\">\n",
        "  <thead>\n",
        "    <tr style=\"text-align: right;\">\n",
        "      <th></th>\n",
        "      <th>CO</th>\n",
        "      <th>TX</th>\n",
        "      <th>NY</th>\n",
        "      <th>OH</th>\n",
        "    </tr>\n",
        "  </thead>\n",
        "  <tbody>\n",
        "    <tr>\n",
        "      <th>2012-07-17</th>\n",
        "      <td>  0</td>\n",
        "      <td>  1</td>\n",
        "      <td>  2</td>\n",
        "      <td>  3</td>\n",
        "    </tr>\n",
        "    <tr>\n",
        "      <th>2012-07-18</th>\n",
        "      <td>  4</td>\n",
        "      <td>  5</td>\n",
        "      <td>  6</td>\n",
        "      <td>  7</td>\n",
        "    </tr>\n",
        "    <tr>\n",
        "      <th>2012-07-19</th>\n",
        "      <td>  8</td>\n",
        "      <td>  9</td>\n",
        "      <td> 10</td>\n",
        "      <td> 11</td>\n",
        "    </tr>\n",
        "    <tr>\n",
        "      <th>2012-07-20</th>\n",
        "      <td> 12</td>\n",
        "      <td> 13</td>\n",
        "      <td> 14</td>\n",
        "      <td> 15</td>\n",
        "    </tr>\n",
        "    <tr>\n",
        "      <th>2012-07-21</th>\n",
        "      <td> 16</td>\n",
        "      <td> 17</td>\n",
        "      <td> 18</td>\n",
        "      <td> 19</td>\n",
        "    </tr>\n",
        "    <tr>\n",
        "      <th>2012-07-22</th>\n",
        "      <td> 20</td>\n",
        "      <td> 21</td>\n",
        "      <td> 22</td>\n",
        "      <td> 23</td>\n",
        "    </tr>\n",
        "    <tr>\n",
        "      <th>2012-07-23</th>\n",
        "      <td> 24</td>\n",
        "      <td> 25</td>\n",
        "      <td> 26</td>\n",
        "      <td> 27</td>\n",
        "    </tr>\n",
        "    <tr>\n",
        "      <th>2012-07-24</th>\n",
        "      <td> 28</td>\n",
        "      <td> 29</td>\n",
        "      <td> 30</td>\n",
        "      <td> 31</td>\n",
        "    </tr>\n",
        "    <tr>\n",
        "      <th>2012-07-25</th>\n",
        "      <td> 32</td>\n",
        "      <td> 33</td>\n",
        "      <td> 34</td>\n",
        "      <td> 35</td>\n",
        "    </tr>\n",
        "    <tr>\n",
        "      <th>2012-07-26</th>\n",
        "      <td> 36</td>\n",
        "      <td> 37</td>\n",
        "      <td> 38</td>\n",
        "      <td> 39</td>\n",
        "    </tr>\n",
        "    <tr>\n",
        "      <th>2012-07-27</th>\n",
        "      <td> 40</td>\n",
        "      <td> 41</td>\n",
        "      <td> 42</td>\n",
        "      <td> 43</td>\n",
        "    </tr>\n",
        "    <tr>\n",
        "      <th>2012-07-28</th>\n",
        "      <td> 44</td>\n",
        "      <td> 45</td>\n",
        "      <td> 46</td>\n",
        "      <td> 47</td>\n",
        "    </tr>\n",
        "    <tr>\n",
        "      <th>2012-07-29</th>\n",
        "      <td> 48</td>\n",
        "      <td> 49</td>\n",
        "      <td> 50</td>\n",
        "      <td> 51</td>\n",
        "    </tr>\n",
        "    <tr>\n",
        "      <th>2012-07-30</th>\n",
        "      <td> 52</td>\n",
        "      <td> 53</td>\n",
        "      <td> 54</td>\n",
        "      <td> 55</td>\n",
        "    </tr>\n",
        "    <tr>\n",
        "      <th>2012-07-31</th>\n",
        "      <td> 56</td>\n",
        "      <td> 57</td>\n",
        "      <td> 58</td>\n",
        "      <td> 59</td>\n",
        "    </tr>\n",
        "  </tbody>\n",
        "</table>\n",
        "</div>"
       ],
       "metadata": {},
       "output_type": "pyout",
       "prompt_number": 13,
       "text": [
        "            CO  TX  NY  OH\n",
        "2012-07-17   0   1   2   3\n",
        "2012-07-18   4   5   6   7\n",
        "2012-07-19   8   9  10  11\n",
        "2012-07-20  12  13  14  15\n",
        "2012-07-21  16  17  18  19\n",
        "2012-07-22  20  21  22  23\n",
        "2012-07-23  24  25  26  27\n",
        "2012-07-24  28  29  30  31\n",
        "2012-07-25  32  33  34  35\n",
        "2012-07-26  36  37  38  39\n",
        "2012-07-27  40  41  42  43\n",
        "2012-07-28  44  45  46  47\n",
        "2012-07-29  48  49  50  51\n",
        "2012-07-30  52  53  54  55\n",
        "2012-07-31  56  57  58  59"
       ]
      }
     ],
     "prompt_number": 13
    },
    {
     "cell_type": "code",
     "collapsed": false,
     "input": [],
     "language": "python",
     "metadata": {},
     "outputs": []
    }
   ],
   "metadata": {}
  }
 ]
}